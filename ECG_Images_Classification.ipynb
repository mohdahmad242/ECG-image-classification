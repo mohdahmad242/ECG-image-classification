{
  "nbformat": 4,
  "nbformat_minor": 0,
  "metadata": {
    "colab": {
      "name": "ECG Images Classification",
      "provenance": [],
      "collapsed_sections": []
    },
    "kernelspec": {
      "name": "python3",
      "display_name": "Python 3"
    },
    "language_info": {
      "name": "python"
    },
    "accelerator": "GPU",
    "widgets": {
      "application/vnd.jupyter.widget-state+json": {
        "e8a9c98939bd44a5b28049e1c33d3d27": {
          "model_module": "@jupyter-widgets/controls",
          "model_name": "HBoxModel",
          "model_module_version": "1.5.0",
          "state": {
            "_dom_classes": [],
            "_model_module": "@jupyter-widgets/controls",
            "_model_module_version": "1.5.0",
            "_model_name": "HBoxModel",
            "_view_count": null,
            "_view_module": "@jupyter-widgets/controls",
            "_view_module_version": "1.5.0",
            "_view_name": "HBoxView",
            "box_style": "",
            "children": [
              "IPY_MODEL_cbbd71f057b74904b9c0d42818c9fc54",
              "IPY_MODEL_b4f34edf091441b3a8e182a0730444c6",
              "IPY_MODEL_f96dd847864942939c7a0651f0018e72"
            ],
            "layout": "IPY_MODEL_2c572e11337144c49c90ff03a565ed35"
          }
        },
        "cbbd71f057b74904b9c0d42818c9fc54": {
          "model_module": "@jupyter-widgets/controls",
          "model_name": "HTMLModel",
          "model_module_version": "1.5.0",
          "state": {
            "_dom_classes": [],
            "_model_module": "@jupyter-widgets/controls",
            "_model_module_version": "1.5.0",
            "_model_name": "HTMLModel",
            "_view_count": null,
            "_view_module": "@jupyter-widgets/controls",
            "_view_module_version": "1.5.0",
            "_view_name": "HTMLView",
            "description": "",
            "description_tooltip": null,
            "layout": "IPY_MODEL_00daa742ec7b42fdbaa5a42ae55eb02f",
            "placeholder": "​",
            "style": "IPY_MODEL_2996892625984223816839bbffaf03a0",
            "value": "100%"
          }
        },
        "b4f34edf091441b3a8e182a0730444c6": {
          "model_module": "@jupyter-widgets/controls",
          "model_name": "FloatProgressModel",
          "model_module_version": "1.5.0",
          "state": {
            "_dom_classes": [],
            "_model_module": "@jupyter-widgets/controls",
            "_model_module_version": "1.5.0",
            "_model_name": "FloatProgressModel",
            "_view_count": null,
            "_view_module": "@jupyter-widgets/controls",
            "_view_module_version": "1.5.0",
            "_view_name": "ProgressView",
            "bar_style": "success",
            "description": "",
            "description_tooltip": null,
            "layout": "IPY_MODEL_0b6aa2a3d8ff47c48c4e516032b97ddf",
            "max": 5010551,
            "min": 0,
            "orientation": "horizontal",
            "style": "IPY_MODEL_8ab61b0b608846479f61411ba7201b84",
            "value": 5010551
          }
        },
        "f96dd847864942939c7a0651f0018e72": {
          "model_module": "@jupyter-widgets/controls",
          "model_name": "HTMLModel",
          "model_module_version": "1.5.0",
          "state": {
            "_dom_classes": [],
            "_model_module": "@jupyter-widgets/controls",
            "_model_module_version": "1.5.0",
            "_model_name": "HTMLModel",
            "_view_count": null,
            "_view_module": "@jupyter-widgets/controls",
            "_view_module_version": "1.5.0",
            "_view_name": "HTMLView",
            "description": "",
            "description_tooltip": null,
            "layout": "IPY_MODEL_413f0fc7f3c34aa5b9bbcc6d9d4c3035",
            "placeholder": "​",
            "style": "IPY_MODEL_6f25c0989caf45599415f945191b3cb5",
            "value": " 4.78M/4.78M [00:00&lt;00:00, 61.0MB/s]"
          }
        },
        "2c572e11337144c49c90ff03a565ed35": {
          "model_module": "@jupyter-widgets/base",
          "model_name": "LayoutModel",
          "model_module_version": "1.2.0",
          "state": {
            "_model_module": "@jupyter-widgets/base",
            "_model_module_version": "1.2.0",
            "_model_name": "LayoutModel",
            "_view_count": null,
            "_view_module": "@jupyter-widgets/base",
            "_view_module_version": "1.2.0",
            "_view_name": "LayoutView",
            "align_content": null,
            "align_items": null,
            "align_self": null,
            "border": null,
            "bottom": null,
            "display": null,
            "flex": null,
            "flex_flow": null,
            "grid_area": null,
            "grid_auto_columns": null,
            "grid_auto_flow": null,
            "grid_auto_rows": null,
            "grid_column": null,
            "grid_gap": null,
            "grid_row": null,
            "grid_template_areas": null,
            "grid_template_columns": null,
            "grid_template_rows": null,
            "height": null,
            "justify_content": null,
            "justify_items": null,
            "left": null,
            "margin": null,
            "max_height": null,
            "max_width": null,
            "min_height": null,
            "min_width": null,
            "object_fit": null,
            "object_position": null,
            "order": null,
            "overflow": null,
            "overflow_x": null,
            "overflow_y": null,
            "padding": null,
            "right": null,
            "top": null,
            "visibility": null,
            "width": null
          }
        },
        "00daa742ec7b42fdbaa5a42ae55eb02f": {
          "model_module": "@jupyter-widgets/base",
          "model_name": "LayoutModel",
          "model_module_version": "1.2.0",
          "state": {
            "_model_module": "@jupyter-widgets/base",
            "_model_module_version": "1.2.0",
            "_model_name": "LayoutModel",
            "_view_count": null,
            "_view_module": "@jupyter-widgets/base",
            "_view_module_version": "1.2.0",
            "_view_name": "LayoutView",
            "align_content": null,
            "align_items": null,
            "align_self": null,
            "border": null,
            "bottom": null,
            "display": null,
            "flex": null,
            "flex_flow": null,
            "grid_area": null,
            "grid_auto_columns": null,
            "grid_auto_flow": null,
            "grid_auto_rows": null,
            "grid_column": null,
            "grid_gap": null,
            "grid_row": null,
            "grid_template_areas": null,
            "grid_template_columns": null,
            "grid_template_rows": null,
            "height": null,
            "justify_content": null,
            "justify_items": null,
            "left": null,
            "margin": null,
            "max_height": null,
            "max_width": null,
            "min_height": null,
            "min_width": null,
            "object_fit": null,
            "object_position": null,
            "order": null,
            "overflow": null,
            "overflow_x": null,
            "overflow_y": null,
            "padding": null,
            "right": null,
            "top": null,
            "visibility": null,
            "width": null
          }
        },
        "2996892625984223816839bbffaf03a0": {
          "model_module": "@jupyter-widgets/controls",
          "model_name": "DescriptionStyleModel",
          "model_module_version": "1.5.0",
          "state": {
            "_model_module": "@jupyter-widgets/controls",
            "_model_module_version": "1.5.0",
            "_model_name": "DescriptionStyleModel",
            "_view_count": null,
            "_view_module": "@jupyter-widgets/base",
            "_view_module_version": "1.2.0",
            "_view_name": "StyleView",
            "description_width": ""
          }
        },
        "0b6aa2a3d8ff47c48c4e516032b97ddf": {
          "model_module": "@jupyter-widgets/base",
          "model_name": "LayoutModel",
          "model_module_version": "1.2.0",
          "state": {
            "_model_module": "@jupyter-widgets/base",
            "_model_module_version": "1.2.0",
            "_model_name": "LayoutModel",
            "_view_count": null,
            "_view_module": "@jupyter-widgets/base",
            "_view_module_version": "1.2.0",
            "_view_name": "LayoutView",
            "align_content": null,
            "align_items": null,
            "align_self": null,
            "border": null,
            "bottom": null,
            "display": null,
            "flex": null,
            "flex_flow": null,
            "grid_area": null,
            "grid_auto_columns": null,
            "grid_auto_flow": null,
            "grid_auto_rows": null,
            "grid_column": null,
            "grid_gap": null,
            "grid_row": null,
            "grid_template_areas": null,
            "grid_template_columns": null,
            "grid_template_rows": null,
            "height": null,
            "justify_content": null,
            "justify_items": null,
            "left": null,
            "margin": null,
            "max_height": null,
            "max_width": null,
            "min_height": null,
            "min_width": null,
            "object_fit": null,
            "object_position": null,
            "order": null,
            "overflow": null,
            "overflow_x": null,
            "overflow_y": null,
            "padding": null,
            "right": null,
            "top": null,
            "visibility": null,
            "width": null
          }
        },
        "8ab61b0b608846479f61411ba7201b84": {
          "model_module": "@jupyter-widgets/controls",
          "model_name": "ProgressStyleModel",
          "model_module_version": "1.5.0",
          "state": {
            "_model_module": "@jupyter-widgets/controls",
            "_model_module_version": "1.5.0",
            "_model_name": "ProgressStyleModel",
            "_view_count": null,
            "_view_module": "@jupyter-widgets/base",
            "_view_module_version": "1.2.0",
            "_view_name": "StyleView",
            "bar_color": null,
            "description_width": ""
          }
        },
        "413f0fc7f3c34aa5b9bbcc6d9d4c3035": {
          "model_module": "@jupyter-widgets/base",
          "model_name": "LayoutModel",
          "model_module_version": "1.2.0",
          "state": {
            "_model_module": "@jupyter-widgets/base",
            "_model_module_version": "1.2.0",
            "_model_name": "LayoutModel",
            "_view_count": null,
            "_view_module": "@jupyter-widgets/base",
            "_view_module_version": "1.2.0",
            "_view_name": "LayoutView",
            "align_content": null,
            "align_items": null,
            "align_self": null,
            "border": null,
            "bottom": null,
            "display": null,
            "flex": null,
            "flex_flow": null,
            "grid_area": null,
            "grid_auto_columns": null,
            "grid_auto_flow": null,
            "grid_auto_rows": null,
            "grid_column": null,
            "grid_gap": null,
            "grid_row": null,
            "grid_template_areas": null,
            "grid_template_columns": null,
            "grid_template_rows": null,
            "height": null,
            "justify_content": null,
            "justify_items": null,
            "left": null,
            "margin": null,
            "max_height": null,
            "max_width": null,
            "min_height": null,
            "min_width": null,
            "object_fit": null,
            "object_position": null,
            "order": null,
            "overflow": null,
            "overflow_x": null,
            "overflow_y": null,
            "padding": null,
            "right": null,
            "top": null,
            "visibility": null,
            "width": null
          }
        },
        "6f25c0989caf45599415f945191b3cb5": {
          "model_module": "@jupyter-widgets/controls",
          "model_name": "DescriptionStyleModel",
          "model_module_version": "1.5.0",
          "state": {
            "_model_module": "@jupyter-widgets/controls",
            "_model_module_version": "1.5.0",
            "_model_name": "DescriptionStyleModel",
            "_view_count": null,
            "_view_module": "@jupyter-widgets/base",
            "_view_module_version": "1.2.0",
            "_view_name": "StyleView",
            "description_width": ""
          }
        }
      }
    }
  },
  "cells": [
    {
      "cell_type": "markdown",
      "source": [
        "## Downloading dataset"
      ],
      "metadata": {
        "id": "h88Un88dhu8U"
      }
    },
    {
      "cell_type": "code",
      "execution_count": 1,
      "metadata": {
        "colab": {
          "base_uri": "https://localhost:8080/"
        },
        "id": "-uxnbdLEOSkD",
        "outputId": "35594988-5fb7-43cc-f74a-09ef9d9aa71d"
      },
      "outputs": [
        {
          "output_type": "stream",
          "name": "stdout",
          "text": [
            "--2022-05-14 02:18:13--  https://md-datasets-cache-zipfiles-prod.s3.eu-west-1.amazonaws.com/gwbz3fsgp8-2.zip\n",
            "Resolving md-datasets-cache-zipfiles-prod.s3.eu-west-1.amazonaws.com (md-datasets-cache-zipfiles-prod.s3.eu-west-1.amazonaws.com)... 52.218.116.42\n",
            "Connecting to md-datasets-cache-zipfiles-prod.s3.eu-west-1.amazonaws.com (md-datasets-cache-zipfiles-prod.s3.eu-west-1.amazonaws.com)|52.218.116.42|:443... connected.\n",
            "HTTP request sent, awaiting response... 200 OK\n",
            "Length: 203349349 (194M) [application/octet-stream]\n",
            "Saving to: ‘gwbz3fsgp8-2.zip’\n",
            "\n",
            "gwbz3fsgp8-2.zip    100%[===================>] 193.93M  20.9MB/s    in 10s     \n",
            "\n",
            "2022-05-14 02:18:24 (19.1 MB/s) - ‘gwbz3fsgp8-2.zip’ saved [203349349/203349349]\n",
            "\n"
          ]
        }
      ],
      "source": [
        "!wget https://md-datasets-cache-zipfiles-prod.s3.eu-west-1.amazonaws.com/gwbz3fsgp8-2.zip"
      ]
    },
    {
      "cell_type": "code",
      "source": [
        "import torch\n",
        "print(torch.__version__)"
      ],
      "metadata": {
        "colab": {
          "base_uri": "https://localhost:8080/"
        },
        "id": "DH2HzZEk19o1",
        "outputId": "0a1168ff-a6b9-4575-ed1a-f87c3565648f"
      },
      "execution_count": 2,
      "outputs": [
        {
          "output_type": "stream",
          "name": "stdout",
          "text": [
            "1.11.0+cu113\n"
          ]
        }
      ]
    },
    {
      "cell_type": "code",
      "source": [
        "!unzip /content/gwbz3fsgp8-2.zip -d dataset"
      ],
      "metadata": {
        "id": "ct-rfvobZBIv"
      },
      "execution_count": null,
      "outputs": []
    },
    {
      "cell_type": "code",
      "source": [
        "import glob\n",
        "import json\n",
        "import math\n",
        "import os\n",
        "import random\n",
        "import shutil\n",
        "from os import listdir\n",
        "from os.path import isfile, join\n",
        "from PIL import Image, ImageDraw\n",
        "import numpy as np\n",
        "import pandas as pd\n",
        "import cv2\n",
        "import matplotlib.image as mpimg\n",
        "import matplotlib.pyplot as plt\n",
        "from skimage import io, transform"
      ],
      "metadata": {
        "id": "Se1zjzGNOgQh"
      },
      "execution_count": 4,
      "outputs": []
    },
    {
      "cell_type": "code",
      "source": [
        "import torch\n",
        "import torch.optim as optim\n",
        "import torch.nn.functional as F\n",
        "import torch.nn as nn\n",
        "import torchvision as vision\n",
        "from torchvision import transforms, datasets\n",
        "from torch.utils.data.sampler import SubsetRandomSampler\n",
        "from torch.autograd import Variable\n",
        "from torch.utils.data import random_split\n",
        "from torchvision.datasets import ImageFolder"
      ],
      "metadata": {
        "id": "W-7obqfFOuP3"
      },
      "execution_count": 5,
      "outputs": []
    },
    {
      "cell_type": "code",
      "source": [
        "class CropImage():\n",
        "    def __call__(self, image):\n",
        "    # print(image)\n",
        "        h, w = image.size\n",
        "        new_img = None\n",
        "\n",
        "        area = (72, 287, w - 40, h - 60)\n",
        "        new_img = image.crop(area)\n",
        "\n",
        "        return new_img"
      ],
      "metadata": {
        "id": "iZf7c_RlOv-6"
      },
      "execution_count": 6,
      "outputs": []
    },
    {
      "cell_type": "code",
      "source": [
        "def prepare_dataset(dataset_path):\n",
        "    \"\"\" Function to create train and validation loader.\n",
        "    Params:\n",
        "        dataset_path: path where all images are.\n",
        "\n",
        "    returns: \n",
        "        train_loader: train loader with batch size of 8\n",
        "        validation_loader: validation loader with batch size of 32\n",
        "\n",
        "    Note: Split ratio and batch sizes are pre-defined you can change it in this function.\n",
        "    \"\"\"\n",
        "\n",
        "    labels = os.listdir(dataset_path)\n",
        "\n",
        "    # Here images are resized and converted to grayscale so that we have data consistency for other tasks\n",
        "    dataset = ImageFolder(\n",
        "      dataset_path,\n",
        "      transforms.Compose([CropImage(),\n",
        "          transforms.Resize((512,512)),\n",
        "                         transforms.ToTensor()\n",
        "                         ])\n",
        "    )\n",
        "\n",
        "    # Validation split 15%\n",
        "    val_split = int(len(dataset)*0.20)\n",
        "    train_split = len(dataset) - val_split\n",
        "\n",
        "    train_dataset, val_dataset = random_split(dataset, [train_split, val_split])\n",
        "\n",
        "    # to make sure the split is right.\n",
        "    assert (len(train_dataset)+len(val_dataset)) == len(dataset)\n",
        "\n",
        "    train_loader = torch.utils.data.DataLoader(train_dataset, 8, shuffle=True)\n",
        "    validation_loader = torch.utils.data.DataLoader(val_dataset, 32) \n",
        "\n",
        "    return (train_loader, validation_loader)"
      ],
      "metadata": {
        "id": "hBKEubqKOx00"
      },
      "execution_count": 7,
      "outputs": []
    },
    {
      "cell_type": "code",
      "source": [
        "dataset_dir = \"./dataset\"\n",
        "train_loader, validation_loader = prepare_dataset(dataset_dir)"
      ],
      "metadata": {
        "id": "bjcsLW3tOzns"
      },
      "execution_count": 8,
      "outputs": []
    },
    {
      "cell_type": "code",
      "source": [
        "examples = enumerate(validation_loader)\n",
        "batch_idx, (example_data, example_targets) = next(examples)\n",
        "import matplotlib.pyplot as plt\n",
        "\n",
        "fig = plt.figure()\n",
        "for i in range(6):\n",
        "    plt.subplot(2,3,i+1)\n",
        "    plt.tight_layout()\n",
        "    plt.imshow(example_data[i][0], cmap='gray', interpolation='none')\n",
        "    plt.title(\"Ground Truth: {}\".format(example_targets[i]))\n",
        "    plt.xticks([])\n",
        "    plt.yticks([])\n",
        "fig"
      ],
      "metadata": {
        "colab": {
          "base_uri": "https://localhost:8080/",
          "height": 551
        },
        "id": "QZWtObu9O1ZW",
        "outputId": "87adfd0c-4310-4619-c91d-738d8411433f"
      },
      "execution_count": 9,
      "outputs": [
        {
          "output_type": "execute_result",
          "data": {
            "text/plain": [
              "<Figure size 432x288 with 6 Axes>"
            ],
            "image/png": "[encoded data removed]"
          },
          "metadata": {},
          "execution_count": 9
        },
        {
          "output_type": "display_data",
          "data": {
            "text/plain": [
              "<Figure size 432x288 with 6 Axes>"
            ],
            "image/png": "[encoded data removed]"
          },
          "metadata": {}
        }
      ]
    },
    {
      "cell_type": "code",
      "source": [
        "classnames= ['ECG Images of Patient that have abnormal heartbeat (233x12=2796)',\n",
        "                             'Normal Person ECG Images (284x12=3408)',\n",
        "                             'ECG Images of Myocardial Infarction Patients (240x12=2880)',\n",
        "                             'ECG Images of Patient that have History of MI (172x12=2064)']"
      ],
      "metadata": {
        "id": "XIsRKvowO2-i"
      },
      "execution_count": 10,
      "outputs": []
    },
    {
      "cell_type": "code",
      "source": [
        "import torch\n",
        "model = torch.hub.load('pytorch/vision:v0.9.0', 'squeezenet1_0', pretrained=True)"
      ],
      "metadata": {
        "colab": {
          "base_uri": "https://localhost:8080/",
          "height": 84,
          "referenced_widgets": [
            "e8a9c98939bd44a5b28049e1c33d3d27",
            "cbbd71f057b74904b9c0d42818c9fc54",
            "b4f34edf091441b3a8e182a0730444c6",
            "f96dd847864942939c7a0651f0018e72",
            "2c572e11337144c49c90ff03a565ed35",
            "00daa742ec7b42fdbaa5a42ae55eb02f",
            "2996892625984223816839bbffaf03a0",
            "0b6aa2a3d8ff47c48c4e516032b97ddf",
            "8ab61b0b608846479f61411ba7201b84",
            "413f0fc7f3c34aa5b9bbcc6d9d4c3035",
            "6f25c0989caf45599415f945191b3cb5"
          ]
        },
        "id": "fQr-PB6iO9AG",
        "outputId": "c0f519ee-e619-4389-f5df-f82e75eebd15"
      },
      "execution_count": 11,
      "outputs": [
        {
          "output_type": "stream",
          "name": "stderr",
          "text": [
            "Downloading: \"https://github.com/pytorch/vision/archive/v0.9.0.zip\" to /root/.cache/torch/hub/v0.9.0.zip\n",
            "Downloading: \"https://download.pytorch.org/models/squeezenet1_0-b66bff10.pth\" to /root/.cache/torch/hub/checkpoints/squeezenet1_0-b66bff10.pth\n"
          ]
        },
        {
          "output_type": "display_data",
          "data": {
            "text/plain": [
              "  0%|          | 0.00/4.78M [00:00<?, ?B/s]"
            ],
            "application/vnd.jupyter.widget-view+json": {
              "version_major": 2,
              "version_minor": 0,
              "model_id": "e8a9c98939bd44a5b28049e1c33d3d27"
            }
          },
          "metadata": {}
        }
      ]
    },
    {
      "cell_type": "code",
      "source": [
        "feature_extract = True\n",
        "def set_parameter_requires_grad(model, feature_extracting):\n",
        "    if feature_extracting:\n",
        "        for param in model.parameters():\n",
        "            param.requires_grad = False\n",
        "\n",
        "model_ft = model\n",
        "set_parameter_requires_grad(model_ft, feature_extract)\n",
        "\n",
        "num_classes = 4\n",
        "\n",
        "model_ft.classifier = nn.Sequential(\n",
        "    nn.Conv2d(512, 256, kernel_size=(1), stride=(1,1)),\n",
        "    nn.Conv2d(256, 128, kernel_size=(1,1), stride=(1,1)),\n",
        "    nn.Conv2d(128, num_classes, kernel_size=(1,1), stride=(1,1)),\n",
        "    nn.ReLU(inplace=True),\n",
        "    nn.AdaptiveAvgPool2d(output_size=(1, 1)),\n",
        ")\n"
      ],
      "metadata": {
        "id": "vkHovLCWZvwz"
      },
      "execution_count": 12,
      "outputs": []
    },
    {
      "cell_type": "code",
      "source": [
        "\n",
        "criterion = nn.CrossEntropyLoss()\n",
        "optimizer = optim.Adam(model_ft.parameters(), lr=1e-3, weight_decay=1e-4)\n",
        "if torch.cuda.is_available():\n",
        "\tprint(torch.cuda.get_device_name(0))\n",
        "\tmodel = model_ft.cuda()\n",
        "\tcriterion = criterion.cuda()"
      ],
      "metadata": {
        "colab": {
          "base_uri": "https://localhost:8080/"
        },
        "id": "JeFAT2gtO-n-",
        "outputId": "caa9f75f-aadb-4241-94b3-7ad51a4afb96"
      },
      "execution_count": 13,
      "outputs": [
        {
          "output_type": "stream",
          "name": "stdout",
          "text": [
            "Tesla T4\n"
          ]
        }
      ]
    },
    {
      "cell_type": "code",
      "source": [
        "%%time\n",
        "# Loss and accuracy list are defined, these lists are used for graph.\n",
        "train_loss_list = []\n",
        "val_loss_list = []\n",
        "epc_list = []\n",
        "train_acc_list = []\n",
        "val_acc_list = []\n",
        "\n",
        "def train():\n",
        "# best_valid_loss is defined so as to save the best validation loss which is lowest one.\n",
        "    best_valid_loss = float('Inf')\n",
        "\n",
        "    print(\"Training Started !!!\")\n",
        "    for i in range(25):\n",
        "        training_loss = 0\n",
        "        tcorrect = 0\n",
        "        ttotal = 0\n",
        "        model.train()\n",
        "        for features, labels in train_loader:\n",
        "          # Label and features assigning\n",
        "          features, labels = Variable(features.cuda()), Variable(labels.cuda())\n",
        "          optimizer.zero_grad()\n",
        "\n",
        "          # Output collection from model\n",
        "          # print(features.size())\n",
        "          outputs = model(features.float())\n",
        "\n",
        "          # Loss calculation and updation\n",
        "          losss = criterion(outputs.cuda(), labels.type(torch.LongTensor).cuda())\n",
        "          losss.backward()\n",
        "          optimizer.step()\n",
        "          training_loss += losss.item()\n",
        "          # Prediction\n",
        "          _, pred = torch.max(outputs, 1)\n",
        "          ttotal+= labels.reshape(-1).size(0)\n",
        "          tcorrect+=(pred.reshape(-1).cuda() == labels.reshape(-1)).sum().item()\n",
        "\n",
        "        # Validation step starts from here.\n",
        "        validation_loss = 0\n",
        "        correct = 0\n",
        "        total = 0\n",
        "        model.eval()\n",
        "        with torch.no_grad():\n",
        "          for features, labels in validation_loader:\n",
        "            # Label and features assigning\n",
        "            features, labels = Variable(features.cuda()), Variable(labels.cuda())\n",
        "\n",
        "            # Output collection from model\n",
        "            outputs = model(features.float())\n",
        "\n",
        "            # Loss calculation, here we skip the backward and \n",
        "            # optimizer step as we do not update weights while validating a model\n",
        "            loss = criterion(outputs.cuda(), labels.type(torch.LongTensor).cuda())\n",
        "\n",
        "            # Prediction\n",
        "            _, pred = torch.max(outputs, 1)\n",
        "            total+= labels.reshape(-1).size(0)\n",
        "            correct+=(pred.reshape(-1).cuda() == labels.reshape(-1)).sum().item()\n",
        "            validation_loss += loss.item()\n",
        "\n",
        "\n",
        "        train_loss_list.append(training_loss/len(train_loader))\n",
        "        val_loss_list.append(validation_loss/len(validation_loader))\n",
        "        epc_list.append(i)\n",
        "        train_acc_list.append(100*(tcorrect/ttotal))\n",
        "        val_acc_list.append(100*(correct/total))\n",
        "\n",
        "        # Logic was defined so as to save the weights of mnist_model when validation loss is lowest.\n",
        "        # if best_valid_loss > validation_loss:\n",
        "        #     best_valid_loss = validation_loss \n",
        "        #     # Saving Best Pre-Trained Model as .pth file\n",
        "        #     torch.save(model, \"vit1.pth\")\n",
        "\n",
        "        print(\"Epoch {} - \\nTraning loss: {}\".format(i+1, training_loss/len(train_loader)))\n",
        "        print(\"Validation loss: {}\".format( validation_loss/len(validation_loader)))\n",
        "        print(\"Trainig Accuracy: {}\".format( 100*(tcorrect/ttotal)))\n",
        "        print(\"Validation Accuracy: {}\".format(100*(correct/total)))\n",
        "\n",
        "train()\n",
        "\n",
        "print(\"Training Complete\")"
      ],
      "metadata": {
        "colab": {
          "base_uri": "https://localhost:8080/"
        },
        "id": "o2uUCQ0RPA1j",
        "outputId": "f92ce71b-2609-4bfc-99b8-c6722b44b122"
      },
      "execution_count": 14,
      "outputs": [
        {
          "output_type": "stream",
          "name": "stdout",
          "text": [
            "Training Started !!!\n"
          ]
        },
        {
          "output_type": "stream",
          "name": "stderr",
          "text": [
            "/usr/local/lib/python3.7/dist-packages/torch/nn/functional.py:780: UserWarning: Note that order of the arguments: ceil_mode and return_indices will changeto match the args list in nn.MaxPool2d in a future release.\n",
            "  warnings.warn(\"Note that order of the arguments: ceil_mode and return_indices will change\"\n"
          ]
        },
        {
          "output_type": "stream",
          "name": "stdout",
          "text": [
            "Epoch 1 - \n",
            "Traning loss: 1.1771044276093925\n",
            "Validation loss: 0.9377151131629944\n",
            "Trainig Accuracy: 47.51009421265142\n",
            "Validation Accuracy: 58.37837837837838\n",
            "Epoch 2 - \n",
            "Traning loss: 0.7954689256286108\n",
            "Validation loss: 0.7790683408578237\n",
            "Trainig Accuracy: 67.56393001345896\n",
            "Validation Accuracy: 71.89189189189189\n",
            "Epoch 3 - \n",
            "Traning loss: 0.6146552413702011\n",
            "Validation loss: 0.6657008826732635\n",
            "Trainig Accuracy: 76.58142664872139\n",
            "Validation Accuracy: 78.37837837837837\n",
            "Epoch 4 - \n",
            "Traning loss: 0.5234954297061889\n",
            "Validation loss: 0.573660766084989\n",
            "Trainig Accuracy: 80.48452220726783\n",
            "Validation Accuracy: 81.62162162162161\n",
            "Epoch 5 - \n",
            "Traning loss: 0.42395245852649854\n",
            "Validation loss: 0.5064073354005814\n",
            "Trainig Accuracy: 85.46433378196501\n",
            "Validation Accuracy: 87.56756756756758\n",
            "Epoch 6 - \n",
            "Traning loss: 0.32910800428800685\n",
            "Validation loss: 0.5274497618277868\n",
            "Trainig Accuracy: 89.77119784656796\n",
            "Validation Accuracy: 84.86486486486487\n",
            "Epoch 7 - \n",
            "Traning loss: 0.2840350764372977\n",
            "Validation loss: 0.5966825087865194\n",
            "Trainig Accuracy: 90.98250336473755\n",
            "Validation Accuracy: 82.70270270270271\n",
            "Epoch 8 - \n",
            "Traning loss: 0.28533101684704265\n",
            "Validation loss: 0.37234826882680255\n",
            "Trainig Accuracy: 89.2328398384926\n",
            "Validation Accuracy: 93.51351351351352\n",
            "Epoch 9 - \n",
            "Traning loss: 0.24757380473117033\n",
            "Validation loss: 0.619949460029602\n",
            "Trainig Accuracy: 92.32839838492598\n",
            "Validation Accuracy: 81.62162162162161\n",
            "Epoch 10 - \n",
            "Traning loss: 0.2365055199592344\n",
            "Validation loss: 0.5524769574403763\n",
            "Trainig Accuracy: 92.19380888290713\n",
            "Validation Accuracy: 88.64864864864866\n",
            "Epoch 11 - \n",
            "Traning loss: 0.2494215583128314\n",
            "Validation loss: 0.4012853726744652\n",
            "Trainig Accuracy: 91.7900403768506\n",
            "Validation Accuracy: 93.51351351351352\n",
            "Epoch 12 - \n",
            "Traning loss: 0.149487721964076\n",
            "Validation loss: 0.42370644708474475\n",
            "Trainig Accuracy: 95.96231493943472\n",
            "Validation Accuracy: 94.05405405405406\n",
            "Epoch 13 - \n",
            "Traning loss: 0.26891504932114835\n",
            "Validation loss: 0.4066553550461928\n",
            "Trainig Accuracy: 90.1749663526245\n",
            "Validation Accuracy: 92.97297297297298\n",
            "Epoch 14 - \n",
            "Traning loss: 0.15903819599739646\n",
            "Validation loss: 0.5693328802784284\n",
            "Trainig Accuracy: 94.885598923284\n",
            "Validation Accuracy: 86.48648648648648\n",
            "Epoch 15 - \n",
            "Traning loss: 0.1276537851450504\n",
            "Validation loss: 0.38264240076144534\n",
            "Trainig Accuracy: 96.23149394347242\n",
            "Validation Accuracy: 95.13513513513514\n",
            "Epoch 16 - \n",
            "Traning loss: 0.1395657123341876\n",
            "Validation loss: 0.36358678589264554\n",
            "Trainig Accuracy: 95.42395693135936\n",
            "Validation Accuracy: 93.51351351351352\n",
            "Epoch 17 - \n",
            "Traning loss: 0.10258730527223839\n",
            "Validation loss: 0.5370646255711714\n",
            "Trainig Accuracy: 96.90444145356662\n",
            "Validation Accuracy: 89.1891891891892\n",
            "Epoch 18 - \n",
            "Traning loss: 0.15792210259404715\n",
            "Validation loss: 0.5237332123021284\n",
            "Trainig Accuracy: 93.94347240915208\n",
            "Validation Accuracy: 91.8918918918919\n",
            "Epoch 19 - \n",
            "Traning loss: 0.14007809631756798\n",
            "Validation loss: 0.40487270429730415\n",
            "Trainig Accuracy: 94.6164199192463\n",
            "Validation Accuracy: 94.5945945945946\n",
            "Epoch 20 - \n",
            "Traning loss: 0.08849765740113423\n",
            "Validation loss: 0.37703322681287926\n",
            "Trainig Accuracy: 97.1736204576043\n",
            "Validation Accuracy: 96.75675675675676\n",
            "Epoch 21 - \n",
            "Traning loss: 0.09777635127876795\n",
            "Validation loss: 0.5011731125414371\n",
            "Trainig Accuracy: 96.23149394347242\n",
            "Validation Accuracy: 91.8918918918919\n",
            "Epoch 22 - \n",
            "Traning loss: 0.15563512477092445\n",
            "Validation loss: 0.4515597075223923\n",
            "Trainig Accuracy: 94.6164199192463\n",
            "Validation Accuracy: 84.86486486486487\n",
            "Epoch 23 - \n",
            "Traning loss: 0.10844856150628578\n",
            "Validation loss: 0.4318680378297965\n",
            "Trainig Accuracy: 96.90444145356662\n",
            "Validation Accuracy: 96.21621621621622\n",
            "Epoch 24 - \n",
            "Traning loss: 0.05926011479772647\n",
            "Validation loss: 0.4095567169909676\n",
            "Trainig Accuracy: 98.38492597577388\n",
            "Validation Accuracy: 97.2972972972973\n",
            "Epoch 25 - \n",
            "Traning loss: 0.09028741977645725\n",
            "Validation loss: 0.3775301218653719\n",
            "Trainig Accuracy: 97.03903095558546\n",
            "Validation Accuracy: 96.75675675675676\n",
            "Training Complete\n",
            "CPU times: user 28min 28s, sys: 30.6 s, total: 28min 59s\n",
            "Wall time: 28min 54s\n"
          ]
        }
      ]
    },
    {
      "cell_type": "code",
      "source": [
        "plt.figure(figsize=(12, 8))\n",
        "plt.plot(epc_list, train_loss_list, label='Train')\n",
        "plt.plot(epc_list, val_loss_list, label='Valid')\n",
        "plt.xlabel('Epochs', fontsize=14)\n",
        "plt.ylabel('Loss', fontsize=14)\n",
        "plt.legend(fontsize=14)\n",
        "plt.show()"
      ],
      "metadata": {
        "colab": {
          "base_uri": "https://localhost:8080/",
          "height": 501
        },
        "id": "KOroWaKbZ5Zd",
        "outputId": "b8004eb0-3559-44d8-8fd5-e6100643c64e"
      },
      "execution_count": 15,
      "outputs": [
        {
          "output_type": "display_data",
          "data": {
            "text/plain": [
              "<Figure size 864x576 with 1 Axes>"
            ],
            "image/png": "[encoded data removed]"
          },
          "metadata": {
            "needs_background": "light"
          }
        }
      ]
    },
    {
      "cell_type": "code",
      "source": [
        "plt.figure(figsize=(12, 8))\n",
        "plt.plot(epc_list, train_acc_list, label='Train')\n",
        "plt.plot(epc_list, val_acc_list, label='Valid')\n",
        "plt.xlabel('Epochs', fontsize=14)\n",
        "plt.ylabel('Accuracy', fontsize=14)\n",
        "plt.legend(fontsize=14)\n",
        "plt.show()"
      ],
      "metadata": {
        "colab": {
          "base_uri": "https://localhost:8080/",
          "height": 501
        },
        "id": "IW55pZHtjR2Q",
        "outputId": "91212927-1b69-4667-cefd-03ab9fa818b6"
      },
      "execution_count": 16,
      "outputs": [
        {
          "output_type": "display_data",
          "data": {
            "text/plain": [
              "<Figure size 864x576 with 1 Axes>"
            ],
            "image/png": "[encoded data removed]"
          },
          "metadata": {
            "needs_background": "light"
          }
        }
      ]
    },
    {
      "cell_type": "code",
      "source": [
        "torch.save(model.state_dict(), \"./model_dict1.pth\")"
      ],
      "metadata": {
        "id": "Y66vuJPGlMeH"
      },
      "execution_count": 17,
      "outputs": []
    },
    {
      "cell_type": "markdown",
      "source": [
        "## Optimize for mobile"
      ],
      "metadata": {
        "id": "yq6SKqNuhamc"
      }
    },
    {
      "cell_type": "code",
      "source": [
        "import torch\n",
        "import torchvision\n",
        "# from unet import UNet \n",
        "from torch.utils.mobile_optimizer import optimize_for_mobile\n",
        "model_ft.load_state_dict(torch.load(\"model_dict1.pth\"))\n",
        "model_ft.eval()\n",
        "model = model_ft.to(\"cpu\")\n",
        "example = torch.rand(1, 3, 512, 512)\n",
        "traced_script_module = torch.jit.trace(model, example)\n",
        "traced_script_module = optimize_for_mobile(traced_script_module)\n",
        "traced_script_module._save_for_lite_interpreter(\"model_lit1.pt\")"
      ],
      "metadata": {
        "colab": {
          "base_uri": "https://localhost:8080/"
        },
        "id": "g14rrL7VjVgh",
        "outputId": "4b0534fe-0422-484b-f37b-7b38de228169"
      },
      "execution_count": 18,
      "outputs": [
        {
          "output_type": "stream",
          "name": "stderr",
          "text": [
            "/usr/local/lib/python3.7/dist-packages/torch/nn/functional.py:780: UserWarning: Note that order of the arguments: ceil_mode and return_indices will changeto match the args list in nn.MaxPool2d in a future release.\n",
            "  warnings.warn(\"Note that order of the arguments: ceil_mode and return_indices will change\"\n"
          ]
        }
      ]
    },
    {
      "cell_type": "code",
      "source": [
        ""
      ],
      "metadata": {
        "id": "jKzhIcaAljrp"
      },
      "execution_count": null,
      "outputs": []
    },
    {
      "cell_type": "code",
      "source": [
        ""
      ],
      "metadata": {
        "id": "UluYjZBgHCDC"
      },
      "execution_count": null,
      "outputs": []
    }
  ]
}